{
 "cells": [
  {
   "cell_type": "code",
   "execution_count": 2,
   "metadata": {},
   "outputs": [
    {
     "name": "stdout",
     "output_type": "stream",
     "text": [
      "5\n"
     ]
    }
   ],
   "source": [
    "#Jiva adventures coding challenge solved by using longest increasing subsuequence\n",
    "arr=[1,3,1,4,5,7,10]\n",
    "lis=[1]*len(arr)\n",
    "\n",
    "for i in range (1, len(arr)):\n",
    "    for j in range(i):\n",
    "        if arr[i]-arr[j]>=2:\n",
    "            if lis[i]<lis[j]+1:\n",
    "                lis[i]=lis[j]+1\n",
    "print(max(lis))\n",
    "\n"
   ]
  },
  {
   "cell_type": "code",
   "execution_count": 6,
   "metadata": {},
   "outputs": [
    {
     "name": "stdout",
     "output_type": "stream",
     "text": [
      "1\n",
      "4\n",
      "3 2 4 1\n",
      "2\n"
     ]
    }
   ],
   "source": [
    "\n",
    "\n",
    "def find(arr, lis):\n",
    "    for i in range (1, len(arr)):\n",
    "        for j in range(i):\n",
    "            if arr[i]-arr[j]<=1:\n",
    "                if lis[i]<lis[j]+1:\n",
    "                    lis[i]=lis[j]+1\n",
    "\n",
    "t = int(input())\n",
    "for k in range(t):\n",
    "    students = int(input())\n",
    "    arr = list(map(int,input().split(\" \")))\n",
    "    lis=[0]*len(arr)\n",
    "    find(arr, lis)\n",
    "\n",
    "print(max(lis))"
   ]
  },
  {
   "cell_type": "code",
   "execution_count": null,
   "metadata": {},
   "outputs": [],
   "source": []
  },
  {
   "cell_type": "code",
   "execution_count": null,
   "metadata": {},
   "outputs": [],
   "source": []
  }
 ],
 "metadata": {
  "kernelspec": {
   "display_name": "Python 3",
   "language": "python",
   "name": "python3"
  },
  "language_info": {
   "codemirror_mode": {
    "name": "ipython",
    "version": 3
   },
   "file_extension": ".py",
   "mimetype": "text/x-python",
   "name": "python",
   "nbconvert_exporter": "python",
   "pygments_lexer": "ipython3",
   "version": "3.6.4"
  }
 },
 "nbformat": 4,
 "nbformat_minor": 2
}
