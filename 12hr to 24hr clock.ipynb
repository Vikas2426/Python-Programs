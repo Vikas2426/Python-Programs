{
 "cells": [
  {
   "cell_type": "code",
   "execution_count": null,
   "metadata": {
    "collapsed": true
   },
   "outputs": [],
   "source": [
    "def timeConversion(s):\n",
    "    if \"A\" in s[8] and int(s[0:2])==12:\n",
    "        return(\"00\"+s[2:8])\n",
    "    elif (\"A\" in s[8] and int(s[0:2])!=12) or (\"P\" in s[8] and int(s[0:2])==12):\n",
    "        return(s[0:8])\n",
    "    elif \"P\" in s[8] and int(s[0:2])!=12:\n",
    "        return(str(int(s[0:2])+12)+s[2:8])\n",
    "           \n",
    "    \n",
    "print(timeConversion(\"07:05:45PM\"))"
   ]
  }
 ],
 "metadata": {
  "kernelspec": {
   "display_name": "Python 3",
   "language": "python",
   "name": "python3"
  },
  "language_info": {
   "codemirror_mode": {
    "name": "ipython",
    "version": 3
   },
   "file_extension": ".py",
   "mimetype": "text/x-python",
   "name": "python",
   "nbconvert_exporter": "python",
   "pygments_lexer": "ipython3",
   "version": "3.6.3"
  }
 },
 "nbformat": 4,
 "nbformat_minor": 2
}
