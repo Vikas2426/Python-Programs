{
 "cells": [
  {
   "cell_type": "code",
   "execution_count": 32,
   "metadata": {
    "scrolled": true
   },
   "outputs": [
    {
     "name": "stdout",
     "output_type": "stream",
     "text": [
      "-- Houston, we have a problem. (Apollo 13)\n",
      "\n",
      "-- Mama always said, life is like a box of chocolates. You never know what you are going to get. (Forrest Gump)\n",
      "\n",
      "-- You cant handle the truth. (A Few Good Men)\n",
      "\n",
      "-- I believe everything and I believe nothing. (A Shot in the Dark)\n",
      "\n",
      " No profanity found\n"
     ]
    }
   ],
   "source": [
    "import requests\n",
    "\n",
    "def read_text():\n",
    "    quotes=open(r\"C:\\Users\\Acer\\Downloads\\movie_quotes.txt\")\n",
    "    contents=quotes.read()\n",
    "    print(contents)\n",
    "    quotes.close()\n",
    "    check_profanity(contents)\n",
    "\n",
    "def check_profanity(text):\n",
    "    response=requests.get(\"http://www.wdylike.appspot.com/?q=\"+text).text\n",
    "    if \"true\" in response:\n",
    "        print(\"\\nProfanity Alert\")\n",
    "    else:\n",
    "        print(\"\\n No profanity found\")\n",
    "\n",
    "    \n",
    "    \n",
    "read_text()\n",
    "\n",
    "\n",
    "\n",
    "    "
   ]
  },
  {
   "cell_type": "code",
   "execution_count": 26,
   "metadata": {
    "collapsed": true
   },
   "outputs": [],
   "source": []
  },
  {
   "cell_type": "code",
   "execution_count": 24,
   "metadata": {},
   "outputs": [
    {
     "name": "stdout",
     "output_type": "stream",
     "text": [
      "true\n"
     ]
    }
   ],
   "source": [
    "\n"
   ]
  },
  {
   "cell_type": "code",
   "execution_count": null,
   "metadata": {
    "collapsed": true
   },
   "outputs": [],
   "source": []
  }
 ],
 "metadata": {
  "kernelspec": {
   "display_name": "Python 3",
   "language": "python",
   "name": "python3"
  },
  "language_info": {
   "codemirror_mode": {
    "name": "ipython",
    "version": 3
   },
   "file_extension": ".py",
   "mimetype": "text/x-python",
   "name": "python",
   "nbconvert_exporter": "python",
   "pygments_lexer": "ipython3",
   "version": "3.6.3"
  }
 },
 "nbformat": 4,
 "nbformat_minor": 2
}
