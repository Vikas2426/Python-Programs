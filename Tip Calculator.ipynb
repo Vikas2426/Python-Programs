{
 "cells": [
  {
   "cell_type": "code",
   "execution_count": 4,
   "metadata": {},
   "outputs": [
    {
     "name": "stdout",
     "output_type": "stream",
     "text": [
      "How much is the bill:100\n",
      "How many people:10\n",
      "What is the tip percentage:10\n",
      "\n",
      "Each person pays 10.0 for the bill\n",
      "Each person pays 1.0 for the tip\n",
      "Hence each person pays 11.0 in total\n"
     ]
    }
   ],
   "source": [
    "# TIP CALCULATOR\n",
    "bill=float(input(\"How much is the bill:\"))\n",
    "people=int(input(\"How many people:\"))\n",
    "tip_per=float(input(\"What is the tip percentage:\"))\n",
    "\n",
    "bill=round(bill/people,2)\n",
    "tip=round(bill*(tip_per/100),2)\n",
    "\n",
    "\n",
    "print(\"\\nEach person pays {} for the bill\".format(bill))\n",
    "print(\"Each person pays {} for the tip\".format(tip))\n",
    "print(\"Hence each person pays {} in total\".format(bill+tip))"
   ]
  },
  {
   "cell_type": "code",
   "execution_count": null,
   "metadata": {
    "collapsed": true
   },
   "outputs": [],
   "source": []
  }
 ],
 "metadata": {
  "kernelspec": {
   "display_name": "Python 3",
   "language": "python",
   "name": "python3"
  },
  "language_info": {
   "codemirror_mode": {
    "name": "ipython",
    "version": 3
   },
   "file_extension": ".py",
   "mimetype": "text/x-python",
   "name": "python",
   "nbconvert_exporter": "python",
   "pygments_lexer": "ipython3",
   "version": "3.6.3"
  }
 },
 "nbformat": 4,
 "nbformat_minor": 2
}
