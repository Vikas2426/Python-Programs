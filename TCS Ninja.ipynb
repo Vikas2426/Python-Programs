{
 "cells": [
  {
   "cell_type": "code",
   "execution_count": 12,
   "metadata": {},
   "outputs": [
    {
     "name": "stdout",
     "output_type": "stream",
     "text": [
      "aaabbc\n",
      "a3b2c1"
     ]
    }
   ],
   "source": [
    "n=input()\n",
    "ar=dict()\n",
    "st=\"\"\n",
    "\n",
    "for x in n:\n",
    "    if x in ar:\n",
    "        ar[x]+=1\n",
    "    else:\n",
    "        st=st+x\n",
    "        ar[x]=1\n",
    "\n",
    "for x in st:\n",
    "    print(x+str(ar[x]), end=\"\")\n",
    "\n",
    "    \n",
    "\n",
    "    "
   ]
  },
  {
   "cell_type": "code",
   "execution_count": 27,
   "metadata": {},
   "outputs": [
    {
     "name": "stdout",
     "output_type": "stream",
     "text": [
      "a\n",
      "a1\n"
     ]
    }
   ],
   "source": [
    "n=input()\n",
    "if len(n) > 1:\n",
    "    count=1\n",
    "    for x in range(1,len(n)):\n",
    "        if n[x]==n[x-1]:\n",
    "            count+=1\n",
    "        else:\n",
    "            print(n[x-1]+str(count), end=\"\")\n",
    "            count=1\n",
    "    print(n[x]+str(count))\n",
    "elif len(n)==1:\n",
    "    print(n+\"1\")\n",
    "else:\n",
    "    print(\"no string found\")"
   ]
  },
  {
   "cell_type": "code",
   "execution_count": null,
   "metadata": {},
   "outputs": [],
   "source": []
  },
  {
   "cell_type": "code",
   "execution_count": null,
   "metadata": {},
   "outputs": [],
   "source": []
  }
 ],
 "metadata": {
  "kernelspec": {
   "display_name": "Python 3",
   "language": "python",
   "name": "python3"
  },
  "language_info": {
   "codemirror_mode": {
    "name": "ipython",
    "version": 3
   },
   "file_extension": ".py",
   "mimetype": "text/x-python",
   "name": "python",
   "nbconvert_exporter": "python",
   "pygments_lexer": "ipython3",
   "version": "3.6.4"
  }
 },
 "nbformat": 4,
 "nbformat_minor": 2
}
