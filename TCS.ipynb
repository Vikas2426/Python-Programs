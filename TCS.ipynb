{
 "cells": [
  {
   "cell_type": "code",
   "execution_count": 76,
   "metadata": {
    "collapsed": true,
    "scrolled": true
   },
   "outputs": [],
   "source": [
    "#Fibonacci Recursion\n",
    "\n",
    "def fib(n):\n",
    "    if n == 1:\n",
    "        return n\n",
    "    elif n==2:\n",
    "        return 1\n",
    "    else:\n",
    "        return int(fib(n-1) + fib (n-2))\n",
    "\n",
    "    \n",
    "\n",
    "\n"
   ]
  },
  {
   "cell_type": "code",
   "execution_count": 77,
   "metadata": {},
   "outputs": [
    {
     "name": "stdout",
     "output_type": "stream",
     "text": [
      "13\n",
      "13\n"
     ]
    }
   ],
   "source": [
    "x=int(input())\n",
    "if x%2 != 0:\n",
    "    ans=fib((x+1)/2)\n",
    "    print(ans)\n",
    "else:\n",
    "    give_prime(x/2)\n",
    "    \n",
    "            \n",
    "\n",
    "\n",
    "\n",
    "        "
   ]
  },
  {
   "cell_type": "code",
   "execution_count": 70,
   "metadata": {
    "collapsed": true
   },
   "outputs": [],
   "source": [
    "#prime check if number is prime\n",
    "\n",
    "def check_prime(num):\n",
    "    for i in range(2,num):\n",
    "        if num % i == 0:\n",
    "            return False\n",
    "    return True\n",
    "\n",
    "\n",
    "            \n",
    "        \n",
    "        \n",
    "    "
   ]
  },
  {
   "cell_type": "code",
   "execution_count": 56,
   "metadata": {},
   "outputs": [
    {
     "name": "stdout",
     "output_type": "stream",
     "text": [
      "11\n"
     ]
    }
   ],
   "source": [
    "#generate nth prime number\n",
    "def give_prime(n):\n",
    "    count=1\n",
    "    if n==1:\n",
    "        return 2\n",
    "    num=3\n",
    "    while count<n:\n",
    "        if check_prime(num):\n",
    "            nth_prime=num\n",
    "            count+=1\n",
    "            num+=1\n",
    "        else:\n",
    "            num+=1\n",
    "    print(nth_prime)\n",
    "    \n"
   ]
  },
  {
   "cell_type": "code",
   "execution_count": null,
   "metadata": {
    "collapsed": true
   },
   "outputs": [],
   "source": []
  }
 ],
 "metadata": {
  "kernelspec": {
   "display_name": "Python 3",
   "language": "python",
   "name": "python3"
  },
  "language_info": {
   "codemirror_mode": {
    "name": "ipython",
    "version": 3
   },
   "file_extension": ".py",
   "mimetype": "text/x-python",
   "name": "python",
   "nbconvert_exporter": "python",
   "pygments_lexer": "ipython3",
   "version": "3.6.3"
  }
 },
 "nbformat": 4,
 "nbformat_minor": 2
}
