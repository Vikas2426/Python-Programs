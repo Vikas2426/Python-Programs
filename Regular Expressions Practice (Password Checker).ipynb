{
 "cells": [
  {
   "cell_type": "code",
   "execution_count": 26,
   "metadata": {},
   "outputs": [
    {
     "name": "stdout",
     "output_type": "stream",
     "text": [
      "Enter Password with alteast 1 uppercase, 1 lowercase character and 1 numeric and 1 special character. \n",
      "Minimum length=6\n",
      "Vikas@123\n",
      "New Password Accepted!\n"
     ]
    }
   ],
   "source": [
    "#this program checks if the entered password conforms to all the norms\n",
    "\n",
    "import re\n",
    "\n",
    "msg=\"Enter Password with alteast 1 uppercase, 1 lowercase character and 1 numeric and 1 special character. \\nMinimum length=6\\n\"\n",
    "\n",
    "new_password=input(msg)\n",
    "   \n",
    "upper=\"[A-Z]\"\n",
    "lower=\"[a-z]\"\n",
    "numeric=r\"[0-9]\"\n",
    "special=r\"[\\$\\^!@#%&*_+=?~`]\"\n",
    "\n",
    "if len(new_password)<6:\n",
    "    print(\"Length < 6!\")\n",
    "else:\n",
    "    if re.search(upper,new_password):\n",
    "        if re.search(lower,new_password):\n",
    "            if re.search(numeric,new_password):\n",
    "                if re.search(special,new_password):       \n",
    "                    print(\"New Password Accepted!\")\n",
    "                else:\n",
    "                    print(\"No special characters\")\n",
    "            else:\n",
    "                print(\"No numeric characters\")\n",
    "        else:\n",
    "            print(\"No lower characters\")\n",
    "    else:\n",
    "        print(\"No uppercase characters\")\n"
   ]
  },
  {
   "cell_type": "code",
   "execution_count": null,
   "metadata": {
    "collapsed": true
   },
   "outputs": [],
   "source": []
  },
  {
   "cell_type": "code",
   "execution_count": null,
   "metadata": {
    "collapsed": true
   },
   "outputs": [],
   "source": []
  },
  {
   "cell_type": "code",
   "execution_count": null,
   "metadata": {
    "collapsed": true
   },
   "outputs": [],
   "source": []
  }
 ],
 "metadata": {
  "kernelspec": {
   "display_name": "Python 3",
   "language": "python",
   "name": "python3"
  },
  "language_info": {
   "codemirror_mode": {
    "name": "ipython",
    "version": 3
   },
   "file_extension": ".py",
   "mimetype": "text/x-python",
   "name": "python",
   "nbconvert_exporter": "python",
   "pygments_lexer": "ipython3",
   "version": "3.6.4"
  }
 },
 "nbformat": 4,
 "nbformat_minor": 2
}
