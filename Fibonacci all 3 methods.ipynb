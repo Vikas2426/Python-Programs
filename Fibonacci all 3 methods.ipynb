{
 "cells": [
  {
   "cell_type": "code",
   "execution_count": 2,
   "metadata": {},
   "outputs": [
    {
     "name": "stdout",
     "output_type": "stream",
     "text": [
      "63245986\n",
      "Wall time: 23.3 s\n"
     ]
    }
   ],
   "source": [
    "#Fibonacci Using Simple Recursion\n",
    "\n",
    "def fib(n):\n",
    "    if n==1:\n",
    "        return 0\n",
    "    elif n==2:\n",
    "        return 1\n",
    "    else:\n",
    "        return(fib(n-1) + fib(n-2))\n",
    "    \n",
    "%time print(fib(40))\n",
    "    "
   ]
  },
  {
   "cell_type": "code",
   "execution_count": 19,
   "metadata": {},
   "outputs": [
    {
     "name": "stdout",
     "output_type": "stream",
     "text": [
      "40\n",
      "63245986\n",
      "Wall time: 1.52 s\n"
     ]
    }
   ],
   "source": [
    "#Fibonacci Using Memoization\n",
    "\n",
    "memo = [0,1,1]\n",
    "\n",
    "def fib(n):\n",
    "    \n",
    "    if len(memo)>=n:\n",
    "        return memo[n]\n",
    "    else:\n",
    "        f = fib(n-1) + fib(n-2)\n",
    "        memo.append(f)\n",
    "        return f\n",
    "    \n",
    "def main():\n",
    "    n = int(input())\n",
    "    n-=1\n",
    "    fib(n)\n",
    "    print(memo[n])\n",
    "\n",
    "%time main()"
   ]
  },
  {
   "cell_type": "code",
   "execution_count": 23,
   "metadata": {},
   "outputs": [
    {
     "name": "stdout",
     "output_type": "stream",
     "text": [
      "63245986\n",
      "Wall time: 0 ns\n"
     ]
    }
   ],
   "source": [
    "#Fibonacci Series using tabulation\n",
    "\n",
    "fibo = [0,1,1]\n",
    "\n",
    "def fib(n):\n",
    "    n -= 1\n",
    "    x = len(fibo)\n",
    "    if x >= n:\n",
    "        return fibo[n]\n",
    "    else:\n",
    "        for i in range(x,n+1):\n",
    "            fibo.append(fibo[i-1] + fibo[i-2])\n",
    "    return fibo[n]\n",
    "\n",
    "%time print(fib(40))"
   ]
  },
  {
   "cell_type": "code",
   "execution_count": null,
   "metadata": {},
   "outputs": [],
   "source": []
  }
 ],
 "metadata": {
  "kernelspec": {
   "display_name": "Python 3",
   "language": "python",
   "name": "python3"
  },
  "language_info": {
   "codemirror_mode": {
    "name": "ipython",
    "version": 3
   },
   "file_extension": ".py",
   "mimetype": "text/x-python",
   "name": "python",
   "nbconvert_exporter": "python",
   "pygments_lexer": "ipython3",
   "version": "3.6.4"
  }
 },
 "nbformat": 4,
 "nbformat_minor": 2
}
