{
 "cells": [
  {
   "cell_type": "code",
   "execution_count": 12,
   "metadata": {},
   "outputs": [
    {
     "name": "stdout",
     "output_type": "stream",
     "text": [
      "Twinkle, twinkle, little star,\n",
      "\tHow I wonder what you are!\n",
      "\t\tUp above the world so high,\n",
      "\t\tLike a diamond in the sky.\n",
      " Twinkle, twinkle, little star,\n",
      "\tHow I wonder what you are\n"
     ]
    }
   ],
   "source": [
    "#print string\n",
    "\n",
    "print(\"Twinkle, twinkle, little star,\\n\\tHow I wonder what you are!\\n\\t\\tUp above the world so high,\\n\\t\\tLike a diamond in the sky.\\n Twinkle, twinkle, little star,\\n\\tHow I wonder what you are\")"
   ]
  },
  {
   "cell_type": "code",
   "execution_count": 13,
   "metadata": {},
   "outputs": [
    {
     "name": "stdout",
     "output_type": "stream",
     "text": [
      "Enter Name vikas\n",
      "Enter Age 25\n",
      "Hi VIKAS , you will turn hundred in the year 2093\n"
     ]
    }
   ],
   "source": [
    "#input age\n",
    "\n",
    "name=input(\"Enter Name \").upper()\n",
    "age=int(input(\"Enter Age \"))\n",
    "print(\"Hi\",name,\", you will turn hundred in the year\",100-age+2018)"
   ]
  },
  {
   "cell_type": "code",
   "execution_count": 14,
   "metadata": {},
   "outputs": [
    {
     "name": "stdout",
     "output_type": "stream",
     "text": [
      "Enter an integer 5\n",
      "615\n"
     ]
    }
   ],
   "source": [
    "#calculate with input\n",
    "\n",
    "num= str(input(\"Enter an integer \"))\n",
    "val1=int(num+num)\n",
    "val2=int(num+num+num)\n",
    "num=int(num)\n",
    "print(num+val1+val2)"
   ]
  },
  {
   "cell_type": "code",
   "execution_count": 15,
   "metadata": {},
   "outputs": [
    {
     "name": "stdout",
     "output_type": "stream",
     "text": [
      "Enter number of rows 5\n",
      "Enter number of columns 3\n",
      "[[0, 0, 0], [0, 1, 2], [0, 2, 4], [0, 3, 6], [0, 4, 8]]\n"
     ]
    }
   ],
   "source": [
    "#2 dimensional array\n",
    "\n",
    "m=int(input(\"Enter number of rows \"))\n",
    "n=int(input(\"Enter number of columns \"))\n",
    "multi_list = [[0 for col in range(n)] for row in range(m)]\n",
    "\n",
    "for row in range(m):\n",
    "    for col in range(n):\n",
    "        multi_list[row][col]=row*col\n",
    "print (multi_list)"
   ]
  },
  {
   "cell_type": "code",
   "execution_count": 16,
   "metadata": {},
   "outputs": [
    {
     "name": "stdout",
     "output_type": "stream",
     "text": [
      "Enter length of side 1 2\n",
      "Enter length of side 2 3\n",
      "Enter length of side 3 4\n",
      "Thumbs up\n"
     ]
    }
   ],
   "source": [
    "#check Triangle\n",
    "a=int(input(\"Enter length of side 1 \"))\n",
    "b=int(input(\"Enter length of side 2 \"))\n",
    "c=int(input(\"Enter length of side 3 \"))\n",
    "\n",
    "def check_tri(a,b,c):\n",
    "    if a+b>c and b+c>a and a+c>b:\n",
    "        print(\"Thumbs up\")\n",
    "    else:\n",
    "        print(\"Not a triangle\")\n",
    "\n",
    "check_tri(a,b,c)\n"
   ]
  },
  {
   "cell_type": "code",
   "execution_count": 17,
   "metadata": {},
   "outputs": [
    {
     "name": "stdout",
     "output_type": "stream",
     "text": [
      "1\n",
      "22\n",
      "333\n",
      "4444\n",
      "55555\n",
      "666666\n",
      "7777777\n",
      "88888888\n",
      "999999999\n"
     ]
    }
   ],
   "source": [
    "#number pattern\n",
    "\n",
    "for n in range(1,10):\n",
    "    print(n*str(n))"
   ]
  },
  {
   "cell_type": "code",
   "execution_count": 18,
   "metadata": {},
   "outputs": [
    {
     "name": "stdout",
     "output_type": "stream",
     "text": [
      "\n",
      "* \n",
      "* * \n",
      "* * * \n",
      "* * * * \n",
      "* * * * * \n",
      "* * * * \n",
      "* * * \n",
      "* * \n",
      "* \n"
     ]
    }
   ],
   "source": [
    "#construct pattern\n",
    "\n",
    "for i in range(5):\n",
    "    for j in range(i):\n",
    "        print(\"* \",end=\"\")\n",
    "    print()\n",
    "for i in range(5,0,-1):\n",
    "    for j in range(i):\n",
    "        print(\"* \",end=\"\")\n",
    "    print()"
   ]
  },
  {
   "cell_type": "code",
   "execution_count": 19,
   "metadata": {},
   "outputs": [
    {
     "name": "stdout",
     "output_type": "stream",
     "text": [
      "Enter string here python2.7\n",
      "Letters  6 \n",
      "Digits  2\n"
     ]
    }
   ],
   "source": [
    "#count digit letter\n",
    "n=input(\"Enter string here \")\n",
    "str_count=0\n",
    "int_count=0\n",
    "for a in n:\n",
    "    if a.isalpha():\n",
    "        str_count+=1\n",
    "    elif a.isdigit():\n",
    "        int_count+=1\n",
    "print(\"Letters \",str_count,\"\\nDigits \",int_count)\n"
   ]
  },
  {
   "cell_type": "code",
   "execution_count": 20,
   "metadata": {},
   "outputs": [
    {
     "name": "stdout",
     "output_type": "stream",
     "text": [
      "Number of even numbers : 4\n",
      "Number of odd numbers : 5\n"
     ]
    }
   ],
   "source": [
    "#count even odd\n",
    "numbers = (1, 2, 3, 4, 5, 6, 7, 8, 9)\n",
    "count_odd = 0\n",
    "count_even = 0\n",
    "for x in numbers:\n",
    "        if not x % 2:\n",
    "            count_even+=1\n",
    "        else:\n",
    "            count_odd+=1\n",
    "                \n",
    "print(\"Number of even numbers :\",count_even)\n",
    "print(\"Number of odd numbers :\",count_odd)"
   ]
  },
  {
   "cell_type": "code",
   "execution_count": 21,
   "metadata": {},
   "outputs": [
    {
     "name": "stdout",
     "output_type": "stream",
     "text": [
      "1\n",
      "1\n",
      "2\n",
      "3\n",
      "5\n",
      "8\n",
      "13\n",
      "21\n",
      "34\n"
     ]
    }
   ],
   "source": [
    "#fibonacci generator\n",
    "x,y=0,1\n",
    "while y<50:\n",
    "    print(y)\n",
    "    x,y = y,x+y\n",
    "\n"
   ]
  },
  {
   "cell_type": "code",
   "execution_count": 22,
   "metadata": {},
   "outputs": [
    {
     "name": "stdout",
     "output_type": "stream",
     "text": [
      "1505,1540,1575,1610,1645,1680,1715,1750,1785,1820,1855,1890,1925,1960,1995,2030,2065,2100,2135,2170,2205,2240,2275,2310,2345,2380,2415,2450,2485,2520,2555,2590,2625,2660,2695\n"
     ]
    }
   ],
   "source": [
    "#find number divisible by 7 and multiple of 5\n",
    "nl=[]\n",
    "for x in range(1500, 2700):\n",
    "    if (x%7==0) and (x%5==0):\n",
    "        nl.append(str(x))\n",
    "print (','.join(nl))\n",
    "\n"
   ]
  },
  {
   "cell_type": "code",
   "execution_count": 23,
   "metadata": {},
   "outputs": [
    {
     "name": "stdout",
     "output_type": "stream",
     "text": [
      "Guess a number between 1 and 9 2\n",
      "Too high  1\n"
     ]
    }
   ],
   "source": [
    "import random\n",
    "x=random.randint(1,9)\n",
    "y=int(input(\"Guess a number between 1 and 9 \"))\n",
    "if y>x:\n",
    "    print(\"Too high \",x)\n",
    "elif y<x:\n",
    "    print(\"Too low \", x)\n",
    "else:\n",
    "    print(\"Exactly right \",x)\n"
   ]
  },
  {
   "cell_type": "code",
   "execution_count": 24,
   "metadata": {},
   "outputs": [
    {
     "name": "stdout",
     "output_type": "stream",
     "text": [
      "Enter Password with alteast 1 uppercase, 1 lowercase character and 1 numeric and 1 special character. \n",
      "Minimum length=6\n",
      "Sadhna@123\n",
      "New Password Accepted!\n"
     ]
    }
   ],
   "source": [
    "#password validation\n",
    "\n",
    "import re\n",
    "\n",
    "msg=\"Enter Password with alteast 1 uppercase, 1 lowercase character and 1 numeric and 1 special character. \\nMinimum length=6\\n\"\n",
    "\n",
    "new_password=input(msg)\n",
    "   \n",
    "upper=\"[A-Z]\"\n",
    "lower=\"[a-z]\"\n",
    "numeric=r\"[0-9]\"\n",
    "special=r\"[\\$\\^!@#%&*_+=?~`]\"\n",
    "\n",
    "if len(new_password)<6:\n",
    "    print(\"Length < 6!\")\n",
    "else:\n",
    "    if re.search(upper,new_password):\n",
    "        if re.search(lower,new_password):\n",
    "            if re.search(numeric,new_password):\n",
    "                if re.search(special,new_password):       \n",
    "                    print(\"New Password Accepted!\")\n",
    "                else:\n",
    "                    print(\"No special characters\")\n",
    "            else:\n",
    "                print(\"No numeric characters\")\n",
    "        else:\n",
    "            print(\"No lower characters\")\n",
    "    else:\n",
    "        print(\"No uppercase characters\")"
   ]
  },
  {
   "cell_type": "code",
   "execution_count": 26,
   "metadata": {},
   "outputs": [
    {
     "name": "stdout",
     "output_type": "stream",
     "text": [
      "Enter length of side 1 2\n",
      "Enter length of side 2 3\n",
      "Enter length of side 3 4\n",
      "Scalene\n"
     ]
    }
   ],
   "source": [
    "#Triangle Type\n",
    "a=int(input(\"Enter length of side 1 \"))\n",
    "b=int(input(\"Enter length of side 2 \"))\n",
    "c=int(input(\"Enter length of side 3 \"))\n",
    "\n",
    "if a==b==c:\n",
    "    print(\"Equilateral\")\n",
    "elif a==b or b==c or a==c:\n",
    "    print(\"Isosceles\")\n",
    "else:\n",
    "    print(\"Scalene\")"
   ]
  },
  {
   "cell_type": "code",
   "execution_count": 27,
   "metadata": {},
   "outputs": [
    {
     "name": "stdout",
     "output_type": "stream",
     "text": [
      "Enter an alphabet m\n",
      "it's a consonant\n"
     ]
    }
   ],
   "source": [
    "#vowel or a consonant\n",
    "\n",
    "import re\n",
    "\n",
    "alpha= input(\"Enter an alphabet \").lower()\n",
    "vowel = \"[aeiou]\"\n",
    "\n",
    "if re.search(vowel,alpha):\n",
    "    print(\"it's a vowel\")\n",
    "else:\n",
    "    print(\"it's a consonant\")\n",
    "\n"
   ]
  },
  {
   "cell_type": "code",
   "execution_count": 28,
   "metadata": {},
   "outputs": [
    {
     "name": "stdout",
     "output_type": "stream",
     "text": [
      "abcd\n"
     ]
    }
   ],
   "source": [
    "#characters to string\n",
    "\n",
    "list1=[\"a\",'b','c','d']\n",
    "x=\"\".join(list1)\n",
    "\n",
    "'''for i in list1: #also works\n",
    "    x+=i'''\n",
    "\n",
    "print(x)\n",
    "\n",
    "    \n"
   ]
  },
  {
   "cell_type": "code",
   "execution_count": 39,
   "metadata": {},
   "outputs": [
    {
     "name": "stdout",
     "output_type": "stream",
     "text": [
      "b is sublist in  a\n",
      "c is sublist in a\n"
     ]
    }
   ],
   "source": [
    "#list contains sublist\n",
    "\n",
    "a=[2,3,4,5,6,7]\n",
    "b=[4,3]\n",
    "c=[3,7]\n",
    "\n",
    "\n",
    "if set(b).issubset(set(a)):\n",
    "    print(\"b is sublist in  a\")\n",
    "if set(c).issubset(set(a)):\n",
    "    print(\"c is sublist in a\")\n",
    "    "
   ]
  },
  {
   "cell_type": "code",
   "execution_count": 34,
   "metadata": {},
   "outputs": [
    {
     "name": "stdout",
     "output_type": "stream",
     "text": [
      "{'White', 'Green'}\n"
     ]
    }
   ],
   "source": [
    "#common items\n",
    "color1 = \"Red\", \"Green\", \"Orange\", \"White\"\n",
    "color2 = \"Black\", \"Green\", \"White\", \"Pink\"\n",
    "common=[]\n",
    "\n",
    "'''for i in color1:\n",
    "    if i in color2:\n",
    "        common.append(i)\n",
    "print(common)'''\n",
    "\n",
    "print(set(color1) & set(color2))\n",
    "        "
   ]
  },
  {
   "cell_type": "code",
   "execution_count": 38,
   "metadata": {},
   "outputs": [
    {
     "name": "stdout",
     "output_type": "stream",
     "text": [
      "{2, 5, 6, 7}\n"
     ]
    }
   ],
   "source": [
    "#difference between 2 list\n",
    "a=[2,3,4,5,6,7]\n",
    "b=[4,3]\n",
    "        \n",
    "print(set(a).difference(set(b)))\n",
    "        "
   ]
  },
  {
   "cell_type": "code",
   "execution_count": 41,
   "metadata": {},
   "outputs": [
    {
     "name": "stdout",
     "output_type": "stream",
     "text": [
      "7\n"
     ]
    }
   ],
   "source": [
    "#max in a list\n",
    "print(max(a))"
   ]
  },
  {
   "cell_type": "code",
   "execution_count": 42,
   "metadata": {},
   "outputs": [
    {
     "name": "stdout",
     "output_type": "stream",
     "text": [
      "{10: 4, 20: 4, 40: 2, 50: 2, 30: 1}\n"
     ]
    }
   ],
   "source": [
    "#frequency of elements\n",
    "\n",
    "my_list = [10,10,10,10,20,20,20,20,40,40,50,50,30]\n",
    "d=dict()\n",
    "\n",
    "for i in my_list:\n",
    "    if i in d:\n",
    "        d[i]+=1\n",
    "    else:\n",
    "        d[i]=1\n",
    "print(d)\n"
   ]
  },
  {
   "cell_type": "code",
   "execution_count": 44,
   "metadata": {},
   "outputs": [
    {
     "name": "stdout",
     "output_type": "stream",
     "text": [
      "[(1, 2, 3), (1, 3, 2), (2, 1, 3), (2, 3, 1), (3, 1, 2), (3, 2, 1)]\n"
     ]
    }
   ],
   "source": [
    "#permutations\n",
    "import itertools\n",
    "\n",
    "print(list(itertools.permutations([1,2,3])))"
   ]
  },
  {
   "cell_type": "code",
   "execution_count": 45,
   "metadata": {},
   "outputs": [
    {
     "name": "stdout",
     "output_type": "stream",
     "text": [
      "[10, 20, 30, 50, 60, 40, 80]\n"
     ]
    }
   ],
   "source": [
    "#remove duplicate\n",
    "\n",
    "a = [10,20,30,20,10,50,60,40,80,50,40]\n",
    "b=[]\n",
    "for i in a:\n",
    "    if i not in b:\n",
    "        b.append(i)\n",
    "        \n",
    "print(b)"
   ]
  },
  {
   "cell_type": "code",
   "execution_count": 49,
   "metadata": {},
   "outputs": [
    {
     "name": "stdout",
     "output_type": "stream",
     "text": [
      "1\n",
      "1\n",
      "2\n",
      "2\n",
      "-8\n",
      "2\n",
      "-2\n",
      "2\n",
      "0\n",
      "2\n"
     ]
    }
   ],
   "source": [
    "#second smallest\n",
    "\n",
    "def second_smallest(a):\n",
    "    b=a[0]\n",
    "    for i in a:\n",
    "        if i>b:\n",
    "            b=i\n",
    "        print(i)\n",
    "        print(b)\n",
    "    \n",
    "second_smallest([1, 2, -8, -2, 0])\n",
    "\n"
   ]
  },
  {
   "cell_type": "code",
   "execution_count": null,
   "metadata": {
    "collapsed": true
   },
   "outputs": [],
   "source": []
  }
 ],
 "metadata": {
  "kernelspec": {
   "display_name": "Python 3",
   "language": "python",
   "name": "python3"
  },
  "language_info": {
   "codemirror_mode": {
    "name": "ipython",
    "version": 3
   },
   "file_extension": ".py",
   "mimetype": "text/x-python",
   "name": "python",
   "nbconvert_exporter": "python",
   "pygments_lexer": "ipython3",
   "version": "3.6.3"
  }
 },
 "nbformat": 4,
 "nbformat_minor": 2
}
